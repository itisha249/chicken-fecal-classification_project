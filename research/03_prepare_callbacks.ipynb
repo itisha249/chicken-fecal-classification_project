{
 "cells": [
  {
   "cell_type": "code",
   "execution_count": 1,
   "metadata": {},
   "outputs": [],
   "source": [
    "import os"
   ]
  },
  {
   "cell_type": "code",
   "execution_count": 2,
   "metadata": {},
   "outputs": [
    {
     "data": {
      "text/plain": [
       "'d:\\\\project\\\\chicken-fecal-classification_project\\\\research'"
      ]
     },
     "execution_count": 2,
     "metadata": {},
     "output_type": "execute_result"
    }
   ],
   "source": [
    "%pwd"
   ]
  },
  {
   "cell_type": "code",
   "execution_count": 3,
   "metadata": {},
   "outputs": [],
   "source": [
    "os.chdir(\"../\")"
   ]
  },
  {
   "cell_type": "code",
   "execution_count": 4,
   "metadata": {},
   "outputs": [
    {
     "data": {
      "text/plain": [
       "'d:\\\\project\\\\chicken-fecal-classification_project'"
      ]
     },
     "execution_count": 4,
     "metadata": {},
     "output_type": "execute_result"
    }
   ],
   "source": [
    "%pwd"
   ]
  },
  {
   "cell_type": "code",
   "execution_count": 5,
   "metadata": {},
   "outputs": [],
   "source": [
    "from dataclasses import dataclass\n",
    "from pathlib import Path\n",
    "\n",
    "\n",
    "@dataclass(frozen=True)\n",
    "class PrepareCallbacksConfig:\n",
    "    root_dir: Path\n",
    "    tensorbord_root_log_pair: Path  # Correct attribute name\n",
    "    checkpoin_model_filepath: Path\n"
   ]
  },
  {
   "cell_type": "code",
   "execution_count": 6,
   "metadata": {},
   "outputs": [],
   "source": [
    "from cnn_classifier.constants import *\n",
    "from cnn_classifier.utils.common import read_yaml,create_directories"
   ]
  },
  {
   "cell_type": "code",
   "execution_count": 7,
   "metadata": {},
   "outputs": [],
   "source": [
    "# class ConfigurationManager:\n",
    "#     def __init__(self,\n",
    "#                  config_filepath = CONFIG_FILE_PATH,\n",
    "#                  params_filepath = PARAMS_FILE_PATH):\n",
    "#         self.config = read_yaml(config_filepath)\n",
    "#         self.params = read_yaml(params_filepath)\n",
    "#         create_directories([self.config.artifacts_root])\n",
    "\n",
    "\n",
    "#     def get_prepare_base_model_config(self) -> PrepareCallbacksConfig:\n",
    "#         config = self.config.prepare_callbacks\n",
    "#         model_ckpt_dir = os.path.dirname(config.checkpoint_model_filepath)\n",
    "#         create_directories([\n",
    "#             Path(model_ckpt_dir),\n",
    "#             Path(config.tensorboard_root_log_dir)\n",
    "#         ])\n",
    "#         Prepare_callbacks_Config = PrepareCallbacksConfig(\n",
    "#             root_dir=Path(config.root.dir),\n",
    "#             tensorbord_root_log_dir = Path(config.tensorboard_root_log_dir),\n",
    "#             checkpoin_model_filepath=Path(config.checkpoint_model_filepath)\n",
    "#         )\n",
    "#         return Prepare_callbacks_Config"
   ]
  },
  {
   "cell_type": "code",
   "execution_count": 8,
   "metadata": {},
   "outputs": [],
   "source": [
    "from pathlib import Path\n",
    "\n",
    "class ConfigurationManager:\n",
    "    def __init__(self, config_filepath=CONFIG_FILE_PATH, params_filepath=PARAMS_FILE_PATH):\n",
    "        self.config = read_yaml(config_filepath)\n",
    "        self.params = read_yaml(params_filepath)\n",
    "\n",
    "        # Ensure artifacts_root is created as a directory\n",
    "        artifacts_root = Path(self.config[\"artifacts_root\"])\n",
    "        create_directories([artifacts_root])\n",
    "\n",
    "    def get_prepare_base_model_config(self) -> PrepareCallbacksConfig:\n",
    "        # Access the nested prepare_base_model section\n",
    "        config = self.config[\"data_ingestion\"][\"prepare_base_model\"]\n",
    "\n",
    "        # Convert paths to Path objects\n",
    "        model_ckpt_dir = Path(config[\"updated_base_model_path\"]).parent\n",
    "        tensorboard_root_log_dir = Path(config[\"root_dir\"]) / \"logs\"\n",
    "        \n",
    "        create_directories([\n",
    "            model_ckpt_dir,\n",
    "            tensorboard_root_log_dir,\n",
    "        ])\n",
    "\n",
    "        # Create and return PrepareCallbacksConfig with Path objects\n",
    "        return PrepareCallbacksConfig(\n",
    "            root_dir=Path(config[\"root_dir\"]),\n",
    "            tensorbord_root_log_pair=tensorboard_root_log_dir,\n",
    "            checkpoin_model_filepath=Path(config[\"updated_base_model_path\"]),\n",
    "        )\n"
   ]
  },
  {
   "cell_type": "code",
   "execution_count": 9,
   "metadata": {},
   "outputs": [],
   "source": [
    "import os\n",
    "import urllib.request as request\n",
    "from zipfile import ZipFile\n",
    "import tensorflow as tf\n",
    "import time"
   ]
  },
  {
   "cell_type": "code",
   "execution_count": 10,
   "metadata": {},
   "outputs": [],
   "source": [
    "# class PrepareCallback:\n",
    "#     def __init__(self,config:PrepareCallbacksConfig):\n",
    "#         self.config = config\n",
    "\n",
    "\n",
    "#     @property\n",
    "#     def _create_tb_callbacks_(self):\n",
    "#         timetamp = time.strftime(\"%Y-%m-%d-%h-%M-%S\")\n",
    "#         tb_running_log_dir = os.path.join(\n",
    "#             self.config.tensorbord_root_log_pai,\n",
    "#             f\"tb_logs_at_{timetamp}\"\n",
    "#         )\n",
    "#         return tf.keras.callbacks.TensorBord(log_dir = tb_running_log_dir)\n",
    "    \n",
    "\n",
    "#     @property\n",
    "#     def _create_ckpt_callbacks(self):\n",
    "#       return tf.keras.callbacks.ModelCheckpoint(\n",
    "#           filepath = self.config.checkpoin_model_filepath,\n",
    "#           save_best_only = True\n",
    "#       )\n",
    "    \n",
    "#     def get_to_ckpt_callbacks(self):\n",
    "#         return[\n",
    "#             self._create_tb_callbacks_,\n",
    "#             self._create_ckpt_callbacks\n",
    "#         ]\n",
    "\n",
    "\n",
    "\n"
   ]
  },
  {
   "cell_type": "code",
   "execution_count": null,
   "metadata": {},
   "outputs": [],
   "source": [
    "from tensorflow import keras\n",
    "class PrepareCallback:\n",
    "    def __init__(self, config: PrepareCallbacksConfig):\n",
    "        self.config = config\n",
    "\n",
    "    @property\n",
    "    def _create_tb_callbacks_(self):\n",
    "        timetamp = time.strftime(\"%Y-%m-%d-%H-%M-%S\")  # Fixed timestamp typo\n",
    "        tb_running_log_dir = os.path.join(\n",
    "            self.config.tensorbord_root_log_pair,  # Correct attribute name\n",
    "            f\"tb_logs_at_{timetamp}\"\n",
    "        )\n",
    "        return tf.keras.callbacks.TensorBoard(log_dir=tb_running_log_dir)  # Fixed TensorBoard typo\n",
    "\n",
    "    @property\n",
    "    def _create_ckpt_callbacks(self):\n",
    "        return tf.keras.callbacks.ModelCheckpoint(\n",
    "            filepath=self.config.updated_base_model_path,  # Updated to use `.keras`\n",
    "            save_best_only=True,\n",
    "            save_weights_only=False,  # Adjust as needed\n",
    "            save_format=\"keras\"  # Explicitly specify the format\n",
    "        )\n",
    "\n",
    "\n",
    "    def get_to_ckpt_callbacks(self):\n",
    "        return [\n",
    "            self._create_tb_callbacks_,\n",
    "            self._create_ckpt_callbacks\n",
    "        ]\n"
   ]
  },
  {
   "cell_type": "code",
   "execution_count": null,
   "metadata": {},
   "outputs": [],
   "source": []
  },
  {
   "cell_type": "code",
   "execution_count": 12,
   "metadata": {},
   "outputs": [
    {
     "name": "stdout",
     "output_type": "stream",
     "text": [
      "[2024-11-15 18:24:26,780: common: YAML file: d:\\project\\chicken-fecal-classification_project\\config\\config.yaml loaded successfully]\n",
      "[2024-11-15 18:24:26,783: common: Content of d:\\project\\chicken-fecal-classification_project\\config\\config.yaml: {'artifacts_root': 'artifacts', 'data_ingestion': {'root_dir': 'artifacts/data_injection', 'source_url': 'https://github.com/itisha249/chicken-fecal-classification_project/raw/refs/heads/main/archive%20(1).zip', 'local_data_file': 'artifacts/data_injection/data.zip', 'unzip_dir': 'artifacts/data_injection', 'prepare_base_model': {'root_dir': 'artifacts/prepare_base_model', 'base_model_path': 'artifacts/prepare_base_model/base_model.h5', 'updated_base_model_path': 'artifacts/prepare_base_model/base_model_updated.h5'}}}]\n",
      "[2024-11-15 18:24:26,788: common: YAML file: d:\\project\\chicken-fecal-classification_project\\param.yaml loaded successfully]\n",
      "[2024-11-15 18:24:26,790: common: Content of d:\\project\\chicken-fecal-classification_project\\param.yaml: {'AUGMENTATION': True, 'IMAGE_SIZE': [224, 224, 3], 'BATCH_SIZE': 16, 'INCLUDE_TOP': False, 'EPOCHS': 1, 'CLASSES': 2, 'WEIGHTS': 'imagenet', 'LEARNING_RATE': 0.01}]\n",
      "[2024-11-15 18:24:26,793: common: Created directory at: artifacts]\n",
      "[2024-11-15 18:24:26,795: common: Created directory at: artifacts\\prepare_base_model]\n",
      "[2024-11-15 18:24:26,797: common: Created directory at: artifacts\\prepare_base_model\\logs]\n"
     ]
    },
    {
     "ename": "ValueError",
     "evalue": "The filepath provided must end in `.keras` (Keras model format). Received: filepath=artifacts\\prepare_base_model\\base_model_updated.h5",
     "output_type": "error",
     "traceback": [
      "\u001b[1;31m---------------------------------------------------------------------------\u001b[0m",
      "\u001b[1;31mValueError\u001b[0m                                Traceback (most recent call last)",
      "Cell \u001b[1;32mIn[12], line 9\u001b[0m\n\u001b[0;32m      5\u001b[0m     callback_list \u001b[38;5;241m=\u001b[39m prepare_callbacks\u001b[38;5;241m.\u001b[39mget_to_ckpt_callbacks()\n\u001b[0;32m      8\u001b[0m \u001b[38;5;28;01mexcept\u001b[39;00m \u001b[38;5;167;01mException\u001b[39;00m \u001b[38;5;28;01mas\u001b[39;00m e:\n\u001b[1;32m----> 9\u001b[0m     \u001b[38;5;28;01mraise\u001b[39;00m e\n",
      "Cell \u001b[1;32mIn[12], line 5\u001b[0m\n\u001b[0;32m      3\u001b[0m     prepare_callbacks_config \u001b[38;5;241m=\u001b[39m config\u001b[38;5;241m.\u001b[39mget_prepare_base_model_config()\n\u001b[0;32m      4\u001b[0m     prepare_callbacks \u001b[38;5;241m=\u001b[39m PrepareCallback(config\u001b[38;5;241m=\u001b[39mprepare_callbacks_config)\n\u001b[1;32m----> 5\u001b[0m     callback_list \u001b[38;5;241m=\u001b[39m \u001b[43mprepare_callbacks\u001b[49m\u001b[38;5;241;43m.\u001b[39;49m\u001b[43mget_to_ckpt_callbacks\u001b[49m\u001b[43m(\u001b[49m\u001b[43m)\u001b[49m\n\u001b[0;32m      8\u001b[0m \u001b[38;5;28;01mexcept\u001b[39;00m \u001b[38;5;167;01mException\u001b[39;00m \u001b[38;5;28;01mas\u001b[39;00m e:\n\u001b[0;32m      9\u001b[0m     \u001b[38;5;28;01mraise\u001b[39;00m e\n",
      "Cell \u001b[1;32mIn[11], line 27\u001b[0m, in \u001b[0;36mPrepareCallback.get_to_ckpt_callbacks\u001b[1;34m(self)\u001b[0m\n\u001b[0;32m     24\u001b[0m \u001b[38;5;28;01mdef\u001b[39;00m \u001b[38;5;21mget_to_ckpt_callbacks\u001b[39m(\u001b[38;5;28mself\u001b[39m):\n\u001b[0;32m     25\u001b[0m     \u001b[38;5;28;01mreturn\u001b[39;00m [\n\u001b[0;32m     26\u001b[0m         \u001b[38;5;28mself\u001b[39m\u001b[38;5;241m.\u001b[39m_create_tb_callbacks_,\n\u001b[1;32m---> 27\u001b[0m         \u001b[38;5;28;43mself\u001b[39;49m\u001b[38;5;241;43m.\u001b[39;49m\u001b[43m_create_ckpt_callbacks\u001b[49m\n\u001b[0;32m     28\u001b[0m     ]\n",
      "Cell \u001b[1;32mIn[11], line 17\u001b[0m, in \u001b[0;36mPrepareCallback._create_ckpt_callbacks\u001b[1;34m(self)\u001b[0m\n\u001b[0;32m     15\u001b[0m \u001b[38;5;129m@property\u001b[39m\n\u001b[0;32m     16\u001b[0m \u001b[38;5;28;01mdef\u001b[39;00m \u001b[38;5;21m_create_ckpt_callbacks\u001b[39m(\u001b[38;5;28mself\u001b[39m):\n\u001b[1;32m---> 17\u001b[0m     \u001b[38;5;28;01mreturn\u001b[39;00m \u001b[43mtf\u001b[49m\u001b[38;5;241;43m.\u001b[39;49m\u001b[43mkeras\u001b[49m\u001b[38;5;241;43m.\u001b[39;49m\u001b[43mcallbacks\u001b[49m\u001b[38;5;241;43m.\u001b[39;49m\u001b[43mModelCheckpoint\u001b[49m\u001b[43m(\u001b[49m\n\u001b[0;32m     18\u001b[0m \u001b[43m        \u001b[49m\u001b[43mfilepath\u001b[49m\u001b[38;5;241;43m=\u001b[39;49m\u001b[38;5;28;43mself\u001b[39;49m\u001b[38;5;241;43m.\u001b[39;49m\u001b[43mconfig\u001b[49m\u001b[38;5;241;43m.\u001b[39;49m\u001b[43mcheckpoin_model_filepath\u001b[49m\u001b[43m,\u001b[49m\u001b[38;5;66;43;03m#checkpoint_model_filepath,  # Ensure this matches the .keras extension\u001b[39;49;00m\n\u001b[0;32m     19\u001b[0m \u001b[43m        \u001b[49m\u001b[43msave_best_only\u001b[49m\u001b[38;5;241;43m=\u001b[39;49m\u001b[38;5;28;43;01mTrue\u001b[39;49;00m\u001b[43m,\u001b[49m\n\u001b[0;32m     20\u001b[0m \u001b[43m        \u001b[49m\u001b[43msave_weights_only\u001b[49m\u001b[38;5;241;43m=\u001b[39;49m\u001b[38;5;28;43;01mFalse\u001b[39;49;00m\u001b[43m  \u001b[49m\u001b[38;5;66;43;03m# Optional, depending on your use case\u001b[39;49;00m\n\u001b[0;32m     21\u001b[0m \u001b[43m    \u001b[49m\u001b[43m)\u001b[49m\n",
      "File \u001b[1;32md:\\project\\chicken-fecal-classification_project\\.venv\\Lib\\site-packages\\keras\\src\\callbacks\\model_checkpoint.py:191\u001b[0m, in \u001b[0;36mModelCheckpoint.__init__\u001b[1;34m(self, filepath, monitor, verbose, save_best_only, save_weights_only, mode, save_freq, initial_value_threshold)\u001b[0m\n\u001b[0;32m    189\u001b[0m \u001b[38;5;28;01melse\u001b[39;00m:\n\u001b[0;32m    190\u001b[0m     \u001b[38;5;28;01mif\u001b[39;00m \u001b[38;5;129;01mnot\u001b[39;00m \u001b[38;5;28mself\u001b[39m\u001b[38;5;241m.\u001b[39mfilepath\u001b[38;5;241m.\u001b[39mendswith(\u001b[38;5;124m\"\u001b[39m\u001b[38;5;124m.keras\u001b[39m\u001b[38;5;124m\"\u001b[39m):\n\u001b[1;32m--> 191\u001b[0m         \u001b[38;5;28;01mraise\u001b[39;00m \u001b[38;5;167;01mValueError\u001b[39;00m(\n\u001b[0;32m    192\u001b[0m             \u001b[38;5;124m\"\u001b[39m\u001b[38;5;124mThe filepath provided must end in `.keras` \u001b[39m\u001b[38;5;124m\"\u001b[39m\n\u001b[0;32m    193\u001b[0m             \u001b[38;5;124m\"\u001b[39m\u001b[38;5;124m(Keras model format). Received: \u001b[39m\u001b[38;5;124m\"\u001b[39m\n\u001b[0;32m    194\u001b[0m             \u001b[38;5;124mf\u001b[39m\u001b[38;5;124m\"\u001b[39m\u001b[38;5;124mfilepath=\u001b[39m\u001b[38;5;132;01m{\u001b[39;00m\u001b[38;5;28mself\u001b[39m\u001b[38;5;241m.\u001b[39mfilepath\u001b[38;5;132;01m}\u001b[39;00m\u001b[38;5;124m\"\u001b[39m\n\u001b[0;32m    195\u001b[0m         )\n",
      "\u001b[1;31mValueError\u001b[0m: The filepath provided must end in `.keras` (Keras model format). Received: filepath=artifacts\\prepare_base_model\\base_model_updated.h5"
     ]
    }
   ],
   "source": [
    "try:\n",
    "    config = ConfigurationManager()\n",
    "    prepare_callbacks_config = config.get_prepare_base_model_config()\n",
    "    prepare_callbacks = PrepareCallback(config=prepare_callbacks_config)\n",
    "    callback_list = prepare_callbacks.get_to_ckpt_callbacks()\n",
    "\n",
    "\n",
    "except Exception as e:\n",
    "    raise e"
   ]
  },
  {
   "cell_type": "code",
   "execution_count": null,
   "metadata": {},
   "outputs": [],
   "source": []
  }
 ],
 "metadata": {
  "kernelspec": {
   "display_name": ".venv",
   "language": "python",
   "name": "python3"
  },
  "language_info": {
   "codemirror_mode": {
    "name": "ipython",
    "version": 3
   },
   "file_extension": ".py",
   "mimetype": "text/x-python",
   "name": "python",
   "nbconvert_exporter": "python",
   "pygments_lexer": "ipython3",
   "version": "3.11.9"
  }
 },
 "nbformat": 4,
 "nbformat_minor": 2
}
