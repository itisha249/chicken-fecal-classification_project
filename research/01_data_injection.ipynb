{
 "cells": [
  {
   "cell_type": "code",
   "execution_count": 1,
   "metadata": {},
   "outputs": [],
   "source": [
    "import os"
   ]
  },
  {
   "cell_type": "code",
   "execution_count": 2,
   "metadata": {},
   "outputs": [
    {
     "data": {
      "text/plain": [
       "'d:\\\\project\\\\chicken-fecal-classification_project\\\\research'"
      ]
     },
     "execution_count": 2,
     "metadata": {},
     "output_type": "execute_result"
    }
   ],
   "source": [
    "%pwd #possitive writing directory"
   ]
  },
  {
   "cell_type": "code",
   "execution_count": 3,
   "metadata": {},
   "outputs": [],
   "source": [
    "os.chdir(\"../\")"
   ]
  },
  {
   "cell_type": "code",
   "execution_count": 4,
   "metadata": {},
   "outputs": [
    {
     "data": {
      "text/plain": [
       "'d:\\\\project\\\\chicken-fecal-classification_project'"
      ]
     },
     "execution_count": 4,
     "metadata": {},
     "output_type": "execute_result"
    }
   ],
   "source": [
    "%pwd"
   ]
  },
  {
   "cell_type": "code",
   "execution_count": null,
   "metadata": {},
   "outputs": [],
   "source": [
    "from dataclasses import dataclass\n",
    "from pathlib import Path\n",
    "\n",
    "@dataclass(frozen=True)\n",
    "class DataIngestionConfig:\n",
    "    root_dir: Path\n",
    "    source_url: str\n",
    "    local_data_file: Path\n",
    "    unzip_dir: Path\n",
    "\n"
   ]
  },
  {
   "cell_type": "code",
   "execution_count": 6,
   "metadata": {},
   "outputs": [],
   "source": [
    "from cnn_classifier.constants import *\n",
    "from cnn_classifier.utils.common import read_yaml,create_directories"
   ]
  },
  {
   "cell_type": "code",
   "execution_count": 7,
   "metadata": {},
   "outputs": [],
   "source": [
    "from pathlib import Path\n",
    "\n",
    "class configurationManager:\n",
    "    def __init__(\n",
    "        self,\n",
    "        config_filepath=CONFIG_FILE_PATH,\n",
    "        params_filepath=PARAMS_FILE_PATH,\n",
    "    ) -> None:\n",
    "        self.config = read_yaml(config_filepath)\n",
    "        self.param = read_yaml(params_filepath)\n",
    "\n",
    "        # Debug print to verify structure of self.config\n",
    "        print(\"Loaded config:\", self.config)  # Check if 'data_ingestion' and 'artifacts_root' keys exist\n",
    "\n",
    "        # Convert `artifacts_root` to Path object before passing to `create_directories`\n",
    "        create_directories([Path(self.config[\"artifacts_root\"])])\n",
    "\n",
    "    def get_data_ingestion_config(self) -> DataIngestionConfig:\n",
    "        config = self.config[\"data_ingestion\"]  # Use dictionary-style access\n",
    "        return DataIngestionConfig(\n",
    "             root_dir=Path(\n",
    "                 config[\"root_dir\"]),\n",
    "                 source_url=config[\"source_url\"],\n",
    "                local_data_file=Path(config[\"local_data_file\"]),\n",
    "                unzip_dir=Path(config[\"unzip_dir\"]),\n",
    "           \n",
    "            \n",
    "            \n",
    "        )\n",
    "# root_dir=Path(config[\"root_dir\"]),\n",
    "#source_url=config[\"source_url\"],\n",
    "#local_data_file=Path(config[\"local_data_file\"]),\n",
    "#unzip_dir=Path(config[\"unzip_dir\"]),"
   ]
  },
  {
   "cell_type": "code",
   "execution_count": 8,
   "metadata": {},
   "outputs": [],
   "source": [
    "import os\n",
    "import urllib.request as request\n",
    "import zipfile \n",
    "from cnn_classifier import logger\n",
    "from cnn_classifier.utils.common import get_size"
   ]
  },
  {
   "cell_type": "code",
   "execution_count": 9,
   "metadata": {},
   "outputs": [],
   "source": [
    "import os\n",
    "import zipfile\n",
    "from pathlib import Path\n",
    "import logging\n",
    "\n",
    "# Assuming the logger is configured\n",
    "logger = logging.getLogger(__name__)\n",
    "\n",
    "class DataIngestion:\n",
    "    def __init__(self, config: DataIngestionConfig):\n",
    "        self.config = config\n",
    "\n",
    "    def download_file(self):\n",
    "        if not os.path.exists(self.config.local_data_file):\n",
    "            filename, headers = request.urlretrieve(self.config.source_url, self.config.local_data_file)\n",
    "            logger.info(f\"{filename} downloaded with the following info:\\n{headers}\")\n",
    "        else:\n",
    "            file_size = os.path.getsize(self.config.local_data_file)\n",
    "            logger.info(f\"File already exists of size: {file_size} bytes\")\n",
    "\n",
    "    def extract_zip_file(self):\n",
    "        \"\"\"\n",
    "        Extract the zip file into the data directory.\n",
    "        \"\"\"\n",
    "        # Ensure `unzip_path` is a Path object\n",
    "        unzip_path = Path(self.config.unzip_dir)  # Explicitly cast to Path object\n",
    "        print(f\"Unzip path: {unzip_path}\")  # Debug print\n",
    "        print(f\"Local data file: {self.config.local_data_file}\")  # Debug print\n",
    "\n",
    "        # Create the directory if it doesn't exist\n",
    "        os.makedirs(unzip_path, exist_ok=True)\n",
    "        print(f\"Directory created or already exists at: {unzip_path}\")  # Debug print\n",
    "\n",
    "        # Check if the local data file exists before extracting\n",
    "        if not os.path.exists(self.config.local_data_file):\n",
    "            print(f\"File does not exist: {self.config.local_data_file}\")\n",
    "            return\n",
    "\n",
    "        try:\n",
    "            with zipfile.ZipFile(self.config.local_data_file, \"r\") as zip_ref:\n",
    "                zip_ref.extractall(unzip_path)  # Extract all files into the unzip path\n",
    "                logger.info(f\"Extracted zip file to: {unzip_path}\")\n",
    "        except Exception as e:\n",
    "            print(f\"Error during extraction: {e}\")\n",
    "            raise e  # Reraise exception to be caught elsewhere\n"
   ]
  },
  {
   "cell_type": "code",
   "execution_count": 10,
   "metadata": {},
   "outputs": [
    {
     "name": "stdout",
     "output_type": "stream",
     "text": [
      "[2024-11-13 19:16:30,970: common: YAML file: d:\\project\\chicken-fecal-classification_project\\config\\config.yaml loaded successfully]\n",
      "[2024-11-13 19:16:30,972: common: Content of d:\\project\\chicken-fecal-classification_project\\config\\config.yaml: {'artifacts_root': 'artifacts', 'data_ingestion': {'root_dir': 'artifacts/data_injection', 'source_url': 'https://github.com/itisha249/chicken-fecal-classification_project/raw/refs/heads/main/archive%20(1).zip', 'local_data_file': 'artifacts/data_injection/data.zip', 'unzip_dir': 'artifacts/data_injection'}}]\n",
      "[2024-11-13 19:16:30,978: common: YAML file: d:\\project\\chicken-fecal-classification_project\\param.yaml loaded successfully]\n",
      "[2024-11-13 19:16:30,980: common: Content of d:\\project\\chicken-fecal-classification_project\\param.yaml: {'parameters': {'key1': 'value1', 'key2': 'value2', 'key3': {'subkey1': 'subvalue1', 'subkey2': 'subvalue2'}}}]\n"
     ]
    },
    {
     "name": "stdout",
     "output_type": "stream",
     "text": [
      "Loaded config: {'artifacts_root': 'artifacts', 'data_ingestion': {'root_dir': 'artifacts/data_injection', 'source_url': 'https://github.com/itisha249/chicken-fecal-classification_project/raw/refs/heads/main/archive%20(1).zip', 'local_data_file': 'artifacts/data_injection/data.zip', 'unzip_dir': 'artifacts/data_injection'}}\n",
      "[2024-11-13 19:16:30,983: common: Created directory at: artifacts]\n",
      "Unzip path: artifacts\\data_injection\n",
      "Local data file: artifacts\\data_injection\\data.zip\n",
      "Directory created or already exists at: artifacts\\data_injection\n",
      "File does not exist: artifacts\\data_injection\\data.zip\n"
     ]
    }
   ],
   "source": [
    "try:\n",
    "    config = configurationManager()\n",
    "    data_ingestion_config = config.get_data_ingestion_config()\n",
    "    data_ingestion = DataIngestion(config=data_ingestion_config)\n",
    "    data_ingestion.extract_zip_file()\n",
    "\n",
    "except Exception as e:\n",
    "    raise e"
   ]
  },
  {
   "cell_type": "code",
   "execution_count": null,
   "metadata": {},
   "outputs": [],
   "source": []
  },
  {
   "cell_type": "code",
   "execution_count": null,
   "metadata": {},
   "outputs": [],
   "source": []
  }
 ],
 "metadata": {
  "kernelspec": {
   "display_name": ".venv",
   "language": "python",
   "name": "python3"
  },
  "language_info": {
   "codemirror_mode": {
    "name": "ipython",
    "version": 3
   },
   "file_extension": ".py",
   "mimetype": "text/x-python",
   "name": "python",
   "nbconvert_exporter": "python",
   "pygments_lexer": "ipython3",
   "version": "3.11.9"
  }
 },
 "nbformat": 4,
 "nbformat_minor": 2
}
